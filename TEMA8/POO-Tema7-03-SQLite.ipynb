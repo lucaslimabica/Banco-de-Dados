{
 "cells": [
  {
   "cell_type": "markdown",
   "metadata": {
    "slideshow": {
     "slide_type": "slide"
    }
   },
   "source": [
    "# Programação Orientada a Objetos (POO)\n",
    "## Tema 7 – Bases de Dados Relacionais\n",
    "\n",
    "### Parte III – Acesso a BD SQLite com Python\n",
    "\n",
    "Jaime A. Martins\n",
    "\n",
    "(CEOT/ISE/UAlg - jamartins@ualg.pt)"
   ]
  },
  {
   "cell_type": "markdown",
   "metadata": {
    "slideshow": {
     "slide_type": "skip"
    }
   },
   "source": [
    "###### Autores: Jaime Martins [v2]; Pedro Cardoso [v1]"
   ]
  },
  {
   "cell_type": "markdown",
   "metadata": {
    "slideshow": {
     "slide_type": "slide"
    }
   },
   "source": [
    "## Estabelecimento de conexão à base de dados usando um Connector/Python"
   ]
  },
  {
   "cell_type": "markdown",
   "metadata": {
    "slideshow": {
     "slide_type": "-"
    }
   },
   "source": [
    "Criar a conexão usando o método `connect()` do módulo `sqlite3`, que tem como parâmetro o caminho para o ficheiro que contém a base de dados "
   ]
  },
  {
   "cell_type": "code",
   "execution_count": 1,
   "metadata": {
    "ExecuteTime": {
     "end_time": "2022-03-28T17:31:27.732395Z",
     "start_time": "2022-03-28T17:31:27.729034Z"
    },
    "slideshow": {
     "slide_type": "-"
    }
   },
   "outputs": [],
   "source": [
    "import sqlite3\n",
    "\n",
    "# Se ainda não existir a base de dados (ficheiro), será criado\n",
    "conn = sqlite3.connect(\"exemplo.db\")\n",
    "\n",
    "conn.close()"
   ]
  },
  {
   "cell_type": "markdown",
   "metadata": {
    "slideshow": {
     "slide_type": "subslide"
    }
   },
   "source": [
    "## Criação de uma base de dados\n",
    "\n",
    "Para a criação das tabelas e relacionamentos podemos construir o SQL statement ou, como alternativa, podemos usar ferramentas como sejam o MySQL Workbench, DbSchema, o Phpmyadmin, o SQlite Browser, o DataGrip, etc. \n",
    "\n",
    "\n",
    "Consideremos o caso em que contruímos o SQL statement..."
   ]
  },
  {
   "cell_type": "code",
   "execution_count": 2,
   "metadata": {
    "ExecuteTime": {
     "end_time": "2022-03-28T17:31:27.852873Z",
     "start_time": "2022-03-28T17:31:27.734230Z"
    },
    "slideshow": {
     "slide_type": "subslide"
    }
   },
   "outputs": [],
   "source": [
    "sql = \"\"\"\n",
    "CREATE TABLE\n",
    "    Location (\n",
    "        idLocation INTEGER CONSTRAINT Location_pk PRIMARY key autoincrement,\n",
    "        name TEXT NOT NULL,\n",
    "        description text NOT NULL\n",
    "    );\n",
    "\n",
    "CREATE TABLE\n",
    "    Unit (\n",
    "        unit text CONSTRAINT Unit_pk PRIMARY key,\n",
    "        description text NOT NULL\n",
    "    );\n",
    "\n",
    "CREATE TABLE\n",
    "    Sensor (\n",
    "        idSensor INTEGER CONSTRAINT Sensor_pk PRIMARY key autoincrement,\n",
    "        idLocation INTEGER NOT NULL CONSTRAINT Sensor_Location_idLocation_fk REFERENCES Location ON UPDATE cascade ON DELETE cascade,\n",
    "        name text NOT NULL,\n",
    "        unit text NOT NULL CONSTRAINT Sensor_Unit_unit_fk REFERENCES Unit ON UPDATE cascade ON DELETE cascade\n",
    "    );\n",
    "\n",
    "CREATE TABLE\n",
    "    Reading (\n",
    "        idReading INTEGER CONSTRAINT Reading_pk PRIMARY key autoincrement,\n",
    "        idSensor INTEGER CONSTRAINT Reading_Sensor_idSensor_fk REFERENCES Sensor ON UPDATE cascade ON DELETE cascade,\n",
    "        TIMESTAMP datetime DEFAULT CURRENT_TIMESTAMP,\n",
    "        VALUE REAL NOT NULL\n",
    "    );\n",
    "\n",
    "CREATE TABLE\n",
    "    Alert (\n",
    "        idAlert INTEGER CONSTRAINT Alert_pk PRIMARY key autoincrement,\n",
    "        idSensor INTEGER CONSTRAINT Alert_Sensor_idSensor_fk REFERENCES Sensor ON UPDATE cascade ON DELETE cascade,\n",
    "        description text NOT NULL,\n",
    "        cleared INTEGER\n",
    "    )\n",
    "\"\"\""
   ]
  },
  {
   "cell_type": "code",
   "execution_count": 3,
   "metadata": {
    "ExecuteTime": {
     "end_time": "2022-03-28T17:31:28.590467Z",
     "start_time": "2022-03-28T17:31:27.854491Z"
    },
    "slideshow": {
     "slide_type": "subslide"
    }
   },
   "outputs": [],
   "source": [
    "with sqlite3.connect(\"sensors.db\") as conn:\n",
    "    cursor = conn.cursor()\n",
    "    \n",
    "    # executescript is a nonstandard convenience method for executing multiple SQL statements at once.\n",
    "    cursor.executescript(sql)\n",
    "    \n",
    "    #cursor.close() # not needed, as it is closed automatically when the with block ends"
   ]
  },
  {
   "cell_type": "markdown",
   "metadata": {
    "slideshow": {
     "slide_type": "slide"
    }
   },
   "source": [
    "## Operações CRUD"
   ]
  },
  {
   "cell_type": "markdown",
   "metadata": {
    "ExecuteTime": {
     "end_time": "2019-11-22T13:08:49.724122Z",
     "start_time": "2019-11-22T13:08:49.719128Z"
    },
    "slideshow": {
     "slide_type": "-"
    }
   },
   "source": [
    "### `INSERT` \n",
    "\n",
    "Aberta a conexão em sqlite"
   ]
  },
  {
   "cell_type": "code",
   "execution_count": 4,
   "metadata": {
    "ExecuteTime": {
     "end_time": "2022-03-28T17:31:28.593829Z",
     "start_time": "2022-03-28T17:31:28.591631Z"
    },
    "slideshow": {
     "slide_type": "-"
    }
   },
   "outputs": [],
   "source": [
    "conn = sqlite3.connect(\"sensors.db\")\n",
    "cursor = conn.cursor()"
   ]
  },
  {
   "cell_type": "markdown",
   "metadata": {
    "slideshow": {
     "slide_type": "-"
    }
   },
   "source": [
    "inserir uma nova localização na base de dados e obter o id correspondente"
   ]
  },
  {
   "cell_type": "code",
   "execution_count": 5,
   "metadata": {
    "ExecuteTime": {
     "end_time": "2022-03-28T17:31:28.681480Z",
     "start_time": "2022-03-28T17:31:28.595245Z"
    },
    "slideshow": {
     "slide_type": "-"
    }
   },
   "outputs": [
    {
     "data": {
      "text/plain": [
       "1"
      ]
     },
     "execution_count": 5,
     "metadata": {},
     "output_type": "execute_result"
    }
   ],
   "source": [
    "# Prepare the sql statement for the new location\n",
    "sql = \"\"\"\n",
    "    INSERT INTO location (name, description) \n",
    "    VALUES (?, ?)\n",
    "\"\"\"\n",
    "\n",
    "data = (\"Prometheus Server\", \"Prometheus Server @ lab. 163 / ISE /UAlg\")\n",
    "\n",
    "# Execute the sql statement and get the new location id\n",
    "cursor.execute(sql, data)\n",
    "\n",
    "location_id = cursor.lastrowid\n",
    "location_id"
   ]
  },
  {
   "cell_type": "markdown",
   "metadata": {
    "slideshow": {
     "slide_type": "subslide"
    }
   },
   "source": [
    "Quando estamos a usar um sistema transacional, temos de efetuar o `commit` depois de fazer um `INSERT`, `DELETE`, ou `UPDATE`.\n",
    "\n",
    "Note-se que:\n",
    "* O `commit` confirma a transação atual. Se não se chamar, tudo o que se fez desde a última chamada do `commit()` não será visível às outras conexões.\n",
    "* Quando a BD é acedida por várias conexões e um dos processos modifica-a, a BD SQLite fica bloqueada até que a transação seja confirmada (_commited_).\n",
    "* Podemos desfazer as alterações desde o último `commit` chamando o método `rollback()`"
   ]
  },
  {
   "cell_type": "code",
   "execution_count": 6,
   "metadata": {
    "ExecuteTime": {
     "end_time": "2022-03-28T17:31:28.881768Z",
     "start_time": "2022-03-28T17:31:28.682695Z"
    },
    "slideshow": {
     "slide_type": "-"
    }
   },
   "outputs": [],
   "source": [
    "conn.commit()"
   ]
  },
  {
   "cell_type": "markdown",
   "metadata": {
    "slideshow": {
     "slide_type": "subslide"
    }
   },
   "source": [
    "Inserir uma nova `Unit`"
   ]
  },
  {
   "cell_type": "code",
   "execution_count": 7,
   "metadata": {
    "ExecuteTime": {
     "end_time": "2022-03-28T17:31:29.085396Z",
     "start_time": "2022-03-28T17:31:28.882948Z"
    },
    "slideshow": {
     "slide_type": "-"
    }
   },
   "outputs": [],
   "source": [
    "sql = \"\"\"\n",
    "    INSERT INTO Unit (unit, description) \n",
    "    VALUES (?, ?)\n",
    "\"\"\"\n",
    "\n",
    "data = (\"percent\", \"percentage of usage\")\n",
    "\n",
    "cursor.execute(sql, data)  # statement + tupla com os dados\n",
    "conn.commit()"
   ]
  },
  {
   "cell_type": "markdown",
   "metadata": {
    "slideshow": {
     "slide_type": "subslide"
    }
   },
   "source": [
    "Inserir um novo sensor e obter o seu id:\n",
    "   1. Preparar o sql, note-se os _placeholders_ com `:nome` usados neste caso (`?` vs `:nome`)\n",
    "   1. Preparar os dados \n",
    "   1. Executar a instrução `execute()` com os valores dos _placeholders_"
   ]
  },
  {
   "cell_type": "code",
   "execution_count": 8,
   "metadata": {
    "ExecuteTime": {
     "end_time": "2022-03-28T17:31:29.197568Z",
     "start_time": "2022-03-28T17:31:29.086653Z"
    },
    "slideshow": {
     "slide_type": "slide"
    }
   },
   "outputs": [
    {
     "data": {
      "text/plain": [
       "1"
      ]
     },
     "execution_count": 8,
     "metadata": {},
     "output_type": "execute_result"
    }
   ],
   "source": [
    "sql = \"\"\"\n",
    "    INSERT INTO Sensor (idLocation, name, unit)\n",
    "    VALUES (:idLocation, :name, :unit)\n",
    "\"\"\"\n",
    "\n",
    "data = {\n",
    "    \"idLocation\": location_id,\n",
    "    \"name\": \"cpu_sensor_01\",\n",
    "    \"unit\": \"percent\",\n",
    "}\n",
    "\n",
    "cursor.execute(sql, data)\n",
    "sensor_id = cursor.lastrowid\n",
    "conn.commit()\n",
    "sensor_id"
   ]
  },
  {
   "cell_type": "markdown",
   "metadata": {
    "slideshow": {
     "slide_type": "subslide"
    }
   },
   "source": [
    "E agora, obter alguns dados e enviar para a base de dados"
   ]
  },
  {
   "cell_type": "code",
   "execution_count": 9,
   "metadata": {
    "ExecuteTime": {
     "end_time": "2022-03-28T17:31:51.603883Z",
     "start_time": "2022-03-28T17:31:29.200500Z"
    },
    "slideshow": {
     "slide_type": "-"
    }
   },
   "outputs": [
    {
     "name": "stdout",
     "output_type": "stream",
     "text": [
      "...................."
     ]
    }
   ],
   "source": [
    "import psutil\n",
    "\n",
    "sql = \"\"\"\n",
    "    INSERT INTO Reading (idSensor, value)     \n",
    "    VALUES (:idSensor, :value)\n",
    "\"\"\"\n",
    "\n",
    "for _ in range(20):\n",
    "    data = {\n",
    "        \"idSensor\": sensor_id,\n",
    "        \"value\": psutil.cpu_percent(interval=1),\n",
    "    }\n",
    "    cursor.execute(sql, data)\n",
    "    conn.commit()\n",
    "    print(\".\", end=\"\")"
   ]
  },
  {
   "cell_type": "code",
   "execution_count": 10,
   "metadata": {
    "ExecuteTime": {
     "end_time": "2022-03-28T17:31:51.609114Z",
     "start_time": "2022-03-28T17:31:51.605186Z"
    },
    "slideshow": {
     "slide_type": "-"
    }
   },
   "outputs": [],
   "source": [
    "cursor.close()\n",
    "conn.close()"
   ]
  },
  {
   "cell_type": "markdown",
   "metadata": {
    "slideshow": {
     "slide_type": "slide"
    }
   },
   "source": [
    "## Selecionar dados"
   ]
  },
  {
   "cell_type": "code",
   "execution_count": 11,
   "metadata": {
    "ExecuteTime": {
     "end_time": "2022-03-28T17:31:51.719018Z",
     "start_time": "2022-03-28T17:31:51.611774Z"
    },
    "slideshow": {
     "slide_type": "-"
    }
   },
   "outputs": [],
   "source": [
    "import sqlite3\n",
    "\n",
    "conn = sqlite3.connect(\"sensors.db\")\n",
    "cursor = conn.cursor()"
   ]
  },
  {
   "cell_type": "code",
   "execution_count": 12,
   "metadata": {
    "ExecuteTime": {
     "end_time": "2022-03-28T17:31:51.808855Z",
     "start_time": "2022-03-28T17:31:51.720932Z"
    },
    "slideshow": {
     "slide_type": "-"
    }
   },
   "outputs": [
    {
     "name": "stdout",
     "output_type": "stream",
     "text": [
      "id: 1\n",
      "\t name: Prometheus Server \n",
      "\t description: Prometheus Server @ lab. 163 / ISE /UAlg\n"
     ]
    }
   ],
   "source": [
    "sql = \"\"\"\n",
    "    SELECT idLocation, name, description \n",
    "    FROM location \n",
    "    WHERE description LIKE \"%163%\"\n",
    "\"\"\"\n",
    "\n",
    "cursor.execute(sql)\n",
    "\n",
    "for (idLocation, name, description) in cursor:\n",
    "    print(f\"id: {idLocation}\\n\\t name: {name} \\n\\t description: {description}\")"
   ]
  },
  {
   "cell_type": "code",
   "execution_count": 13,
   "metadata": {
    "ExecuteTime": {
     "end_time": "2022-03-28T17:31:51.911954Z",
     "start_time": "2022-03-28T17:31:51.810557Z"
    },
    "scrolled": true,
    "slideshow": {
     "slide_type": "subslide"
    }
   },
   "outputs": [
    {
     "name": "stdout",
     "output_type": "stream",
     "text": [
      "idReading: 5\n",
      "\t idSensor: 1 \n",
      "\t time: 2023-03-17 15:53:10 \n",
      "\t value: 7.4\n",
      "idReading: 18\n",
      "\t idSensor: 1 \n",
      "\t time: 2023-03-17 15:53:25 \n",
      "\t value: 5.8\n"
     ]
    }
   ],
   "source": [
    "sql = \"\"\"\n",
    "    SELECT idReading, idSensor, timestamp, value \n",
    "    FROM reading \n",
    "    WHERE value BETWEEN ? and ?\n",
    "\"\"\"\n",
    "data = (5, 30)\n",
    "\n",
    "cursor.execute(sql, data)\n",
    "\n",
    "for (idReading, idSensor, timestamp, value) in cursor:\n",
    "    print(f\"idReading: {idReading}\\n\\t idSensor: {idSensor} \\n\\t time: {timestamp} \\n\\t value: {value}\")"
   ]
  },
  {
   "cell_type": "code",
   "execution_count": 14,
   "metadata": {
    "ExecuteTime": {
     "end_time": "2022-03-28T17:31:51.995032Z",
     "start_time": "2022-03-28T17:31:51.912885Z"
    },
    "slideshow": {
     "slide_type": "subslide"
    }
   },
   "outputs": [
    {
     "data": {
      "text/plain": [
       "<sqlite3.Cursor at 0x22fbdd66ec0>"
      ]
     },
     "execution_count": 14,
     "metadata": {},
     "output_type": "execute_result"
    }
   ],
   "source": [
    "sql = \"\"\"\n",
    "    SELECT *\n",
    "    FROM Location as L\n",
    "    INNER JOIN Sensor AS S ON L.idLocation = S.idLocation\n",
    "    INNER JOIN Unit AS U ON S.unit = U.unit\n",
    "    INNER JOIN Reading AS R ON S.idSensor = R.idSensor\n",
    "    WHERE VALUE BETWEEN :low AND :high\n",
    "    ORDER BY VALUE\n",
    "\"\"\"\n",
    "\n",
    "data = {\n",
    "    \"low\": 1,\n",
    "    \"high\": 2,\n",
    "}\n",
    "\n",
    "cursor.execute(sql, data)"
   ]
  },
  {
   "cell_type": "markdown",
   "metadata": {
    "slideshow": {
     "slide_type": "subslide"
    }
   },
   "source": [
    "Podemos obter os nomes das colunas"
   ]
  },
  {
   "cell_type": "code",
   "execution_count": 15,
   "metadata": {
    "ExecuteTime": {
     "end_time": "2022-03-28T17:31:52.210510Z",
     "start_time": "2022-03-28T17:31:52.117808Z"
    },
    "scrolled": true,
    "slideshow": {
     "slide_type": "-"
    }
   },
   "outputs": [
    {
     "data": {
      "text/plain": [
       "(('idLocation', None, None, None, None, None, None),\n",
       " ('name', None, None, None, None, None, None),\n",
       " ('description', None, None, None, None, None, None),\n",
       " ('idSensor', None, None, None, None, None, None),\n",
       " ('idLocation', None, None, None, None, None, None),\n",
       " ('name', None, None, None, None, None, None),\n",
       " ('unit', None, None, None, None, None, None),\n",
       " ('unit', None, None, None, None, None, None),\n",
       " ('description', None, None, None, None, None, None),\n",
       " ('idReading', None, None, None, None, None, None),\n",
       " ('idSensor', None, None, None, None, None, None),\n",
       " ('TIMESTAMP', None, None, None, None, None, None),\n",
       " ('VALUE', None, None, None, None, None, None))"
      ]
     },
     "execution_count": 15,
     "metadata": {},
     "output_type": "execute_result"
    }
   ],
   "source": [
    "cursor.description"
   ]
  },
  {
   "cell_type": "code",
   "execution_count": 16,
   "metadata": {
    "ExecuteTime": {
     "end_time": "2022-03-28T17:31:52.319684Z",
     "start_time": "2022-03-28T17:31:52.211715Z"
    },
    "scrolled": true,
    "slideshow": {
     "slide_type": "subslide"
    }
   },
   "outputs": [
    {
     "data": {
      "text/plain": [
       "['idLocation',\n",
       " 'name',\n",
       " 'description',\n",
       " 'idSensor',\n",
       " 'idLocation',\n",
       " 'name',\n",
       " 'unit',\n",
       " 'unit',\n",
       " 'description',\n",
       " 'idReading',\n",
       " 'idSensor',\n",
       " 'TIMESTAMP',\n",
       " 'VALUE']"
      ]
     },
     "execution_count": 16,
     "metadata": {},
     "output_type": "execute_result"
    }
   ],
   "source": [
    "lista_de_colunas = [linha[0] for linha in cursor.description]\n",
    "lista_de_colunas"
   ]
  },
  {
   "cell_type": "code",
   "execution_count": 17,
   "metadata": {
    "ExecuteTime": {
     "end_time": "2022-03-28T17:31:52.384692Z",
     "start_time": "2022-03-28T17:31:52.320872Z"
    },
    "scrolled": true,
    "slideshow": {
     "slide_type": "subslide"
    }
   },
   "outputs": [
    {
     "name": "stdout",
     "output_type": "stream",
     "text": [
      "|idLocation: 1\t|name: Prometheus Server\t|description: Prometheus Server @ lab. 163 / ISE /UAlg\t|idSensor: 1\t|idLocation: 1\t|name: cpu_sensor_01\t|unit: percent\t|unit: percent\t|description: percentage of usage\t|idReading: 18\t|idSensor: 1\t|TIMESTAMP: 2023-03-17 15:53:25\t|VALUE: 5.8\n",
      "|idLocation: 1\t|name: Prometheus Server\t|description: Prometheus Server @ lab. 163 / ISE /UAlg\t|idSensor: 1\t|idLocation: 1\t|name: cpu_sensor_01\t|unit: percent\t|unit: percent\t|description: percentage of usage\t|idReading: 5\t|idSensor: 1\t|TIMESTAMP: 2023-03-17 15:53:10\t|VALUE: 7.4\n"
     ]
    }
   ],
   "source": [
    "for linha in cursor:\n",
    "    print(\n",
    "        \"\\t\".join(\n",
    "            [f\"|{coluna}: {valor}\" for valor, coluna in zip(linha, lista_de_colunas)]\n",
    "        )\n",
    "    )"
   ]
  },
  {
   "cell_type": "markdown",
   "metadata": {
    "slideshow": {
     "slide_type": "subslide"
    }
   },
   "source": [
    "Usando o comando `fetchall` podemos obter todos os resultados de uma única vez como uma lista de tuplas"
   ]
  },
  {
   "cell_type": "code",
   "execution_count": 18,
   "metadata": {
    "ExecuteTime": {
     "end_time": "2022-03-28T17:33:02.128720Z",
     "start_time": "2022-03-28T17:33:02.123534Z"
    },
    "scrolled": true,
    "slideshow": {
     "slide_type": "-"
    }
   },
   "outputs": [
    {
     "data": {
      "text/plain": [
       "[(1,\n",
       "  'Prometheus Server',\n",
       "  'Prometheus Server @ lab. 163 / ISE /UAlg',\n",
       "  1,\n",
       "  1,\n",
       "  'cpu_sensor_01',\n",
       "  'percent',\n",
       "  'percent',\n",
       "  'percentage of usage',\n",
       "  18,\n",
       "  1,\n",
       "  '2023-03-17 15:53:25',\n",
       "  5.8),\n",
       " (1,\n",
       "  'Prometheus Server',\n",
       "  'Prometheus Server @ lab. 163 / ISE /UAlg',\n",
       "  1,\n",
       "  1,\n",
       "  'cpu_sensor_01',\n",
       "  'percent',\n",
       "  'percent',\n",
       "  'percentage of usage',\n",
       "  5,\n",
       "  1,\n",
       "  '2023-03-17 15:53:10',\n",
       "  7.4)]"
      ]
     },
     "execution_count": 18,
     "metadata": {},
     "output_type": "execute_result"
    }
   ],
   "source": [
    "# É necessário voltar a correr o SELECT pois o cursor foi esvaziado\n",
    "cursor.execute(sql, data)\n",
    "\n",
    "cursor.fetchall()"
   ]
  },
  {
   "cell_type": "markdown",
   "metadata": {
    "slideshow": {
     "slide_type": "subslide"
    }
   },
   "source": [
    "Podemos também converter para um dicionário mas __nosso caso NÃO é boa ideia__ pois duas colunas \"têm o mesmo nome\" (e.g., `nome`), pelo que se perdem colunas."
   ]
  },
  {
   "cell_type": "code",
   "execution_count": 19,
   "metadata": {
    "ExecuteTime": {
     "end_time": "2022-03-28T17:31:52.926130Z",
     "start_time": "2022-03-28T17:31:52.769650Z"
    },
    "scrolled": true,
    "slideshow": {
     "slide_type": "-"
    }
   },
   "outputs": [
    {
     "name": "stdout",
     "output_type": "stream",
     "text": [
      "{'idLocation': 1, 'name': 'cpu_sensor_01', 'description': 'percentage of usage', 'idSensor': 1, 'unit': 'percent', 'idReading': 18, 'TIMESTAMP': '2023-03-17 15:53:25', 'VALUE': 5.8}\n",
      "{'idLocation': 1, 'name': 'cpu_sensor_01', 'description': 'percentage of usage', 'idSensor': 1, 'unit': 'percent', 'idReading': 5, 'TIMESTAMP': '2023-03-17 15:53:10', 'VALUE': 7.4}\n"
     ]
    }
   ],
   "source": [
    "# É necessário voltar a correr o SELECT pois o cursor foi esvaziado\n",
    "cursor.execute(sql, data)\n",
    "\n",
    "for linha in cursor:\n",
    "    print({coluna: valor for valor, coluna in zip(linha, lista_de_colunas)})"
   ]
  },
  {
   "cell_type": "code",
   "execution_count": 20,
   "metadata": {
    "ExecuteTime": {
     "end_time": "2022-03-28T17:31:53.232531Z",
     "start_time": "2022-03-28T17:31:52.927370Z"
    },
    "slideshow": {
     "slide_type": "-"
    }
   },
   "outputs": [],
   "source": [
    "cursor.close()\n",
    "conn.close()"
   ]
  },
  {
   "cell_type": "markdown",
   "metadata": {
    "slideshow": {
     "slide_type": "slide"
    }
   },
   "source": [
    "### EXERCÍCIO\n",
    "Utilize os pacotes `time` e `psutil` para calcular a memoria virtual livre a cada segundo durante 30 segundos, guardando na base de dados. Use\n",
    "```\n",
    "...\n",
    "x = psutil.virtual_memory()\n",
    "x.free\n",
    "...\n",
    "```"
   ]
  }
 ],
 "metadata": {
  "kernelspec": {
   "display_name": "Python 3 (ipykernel)",
   "language": "python",
   "name": "python3"
  },
  "language_info": {
   "codemirror_mode": {
    "name": "ipython",
    "version": 3
   },
   "file_extension": ".py",
   "mimetype": "text/x-python",
   "name": "python",
   "nbconvert_exporter": "python",
   "pygments_lexer": "ipython3",
   "version": "3.11.8"
  },
  "latex_envs": {
   "LaTeX_envs_menu_present": true,
   "autoclose": true,
   "autocomplete": true,
   "bibliofile": "references.bib",
   "cite_by": "apalike",
   "current_citInitial": 1,
   "eqLabelWithNumbers": false,
   "eqNumInitial": 1,
   "hotkeys": {
    "equation": "Ctrl-E",
    "itemize": "Ctrl-I"
   },
   "labels_anchors": false,
   "latex_user_defs": false,
   "report_style_numbering": true,
   "user_envs_cfg": false
  },
  "nbTranslate": {
   "displayLangs": [
    "pt"
   ],
   "hotkey": "alt-t",
   "langInMainMenu": true,
   "sourceLang": "en",
   "targetLang": "pt",
   "useGoogleTranslate": true
  },
  "toc": {
   "base_numbering": 1,
   "nav_menu": {
    "height": "307px",
    "width": "476px"
   },
   "number_sections": true,
   "sideBar": true,
   "skip_h1_title": false,
   "title_cell": "Table of Contents",
   "title_sidebar": "Contents",
   "toc_cell": false,
   "toc_position": {},
   "toc_section_display": true,
   "toc_window_display": false
  },
  "varInspector": {
   "cols": {
    "lenName": 16,
    "lenType": 16,
    "lenVar": 40
   },
   "kernels_config": {
    "python": {
     "delete_cmd_postfix": "",
     "delete_cmd_prefix": "del ",
     "library": "var_list.py",
     "varRefreshCmd": "print(var_dic_list())"
    },
    "r": {
     "delete_cmd_postfix": ") ",
     "delete_cmd_prefix": "rm(",
     "library": "var_list.r",
     "varRefreshCmd": "cat(var_dic_list()) "
    }
   },
   "types_to_exclude": [
    "module",
    "function",
    "builtin_function_or_method",
    "instance",
    "_Feature"
   ],
   "window_display": false
  },
  "vscode": {
   "interpreter": {
    "hash": "514c66916f79f2e119b1c85bbea303f4e82df27fa4f8b079b28152a352dfbb6c"
   }
  }
 },
 "nbformat": 4,
 "nbformat_minor": 2
}
